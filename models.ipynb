{
 "cells": [
  {
   "cell_type": "code",
   "execution_count": 68,
   "id": "3e66ce1e-d44a-4ee9-86ee-e273fe3499b0",
   "metadata": {},
   "outputs": [],
   "source": [
    "import pandas as pd\n",
    "import matplotlib.pyplot as plt\n",
    "import seaborn as sns\n",
    "import numpy as np\n",
    "from sklearn.model_selection import train_test_split\n",
    "from sklearn.linear_model import LinearRegression\n",
    "from sklearn.preprocessing import PolynomialFeatures\n",
    "from numpy import mean\n",
    "from numpy import std\n",
    "from numpy import absolute\n",
    "from sklearn.model_selection import cross_val_score\n",
    "from sklearn.model_selection import RepeatedKFold\n",
    "from sklearn.linear_model import Lasso\n",
    "from sklearn.tree import DecisionTreeRegressor\n",
    "from sklearn.ensemble import RandomForestRegressor\n",
    "from sklearn.svm import SVR\n",
    "from sklearn.linear_model import BayesianRidge\n",
    "from sklearn.linear_model import Ridge\n",
    "from sklearn.linear_model import ElasticNet\n",
    "\n",
    "\n",
    "df = pd.read_csv(\"en_eff.csv\")\n",
    "df.columns = ['relative_compactness', \n",
    "              'surface_area', \n",
    "              'wall_area', \n",
    "              'roof_area', \n",
    "              'overall_height', \n",
    "              'orientation', \n",
    "              'glazing_area', \n",
    "              'glazing_distribution', \n",
    "              'heating_load', \n",
    "              'cooling_load']\n",
    "X = df[['relative_compactness', \n",
    "        'surface_area', \n",
    "        'wall_area', \n",
    "        'roof_area', \n",
    "        'overall_height', \n",
    "        'orientation', \n",
    "        'glazing_area', \n",
    "        'glazing_distribution']]\n",
    "Y = df[['heating_load']]\n",
    "X_train, X_test, Y_train, Y_test = train_test_split(X, Y, test_size=0.2, random_state=3) # random_state controls the shuffling applied to the data before applying the split"
   ]
  },
  {
   "cell_type": "code",
   "execution_count": 32,
   "id": "3df35a24-fe9d-47e1-8fd7-eea8a050cb4d",
   "metadata": {},
   "outputs": [],
   "source": [
    "def RepeatedKFoldPerf(m, x, y):\n",
    "    # define model evaluation method\n",
    "    cv = RepeatedKFold(n_splits=10, n_repeats=3, random_state=1)\n",
    "    # evaluate model\n",
    "    scores = cross_val_score(m, x, y, scoring='neg_mean_absolute_error', cv=cv, n_jobs=-1)\n",
    "    # force scores to be positive\n",
    "    scores = absolute(scores)\n",
    "    return 'Mean MAE: %.3f (%.3f)' % (mean(scores), std(scores))"
   ]
  },
  {
   "cell_type": "markdown",
   "id": "dc868523-8703-40e9-8dee-f469383c20bb",
   "metadata": {},
   "source": [
    "### Linear Regression "
   ]
  },
  {
   "cell_type": "code",
   "execution_count": 38,
   "id": "8f25433e-05c2-43f6-b258-a314ec40b625",
   "metadata": {},
   "outputs": [
    {
     "name": "stdout",
     "output_type": "stream",
     "text": [
      "RKFold performance: \n",
      "Mean MAE: 2.085 (0.260)\n",
      "\n",
      "Score after fit: 0.921854284088875\n"
     ]
    }
   ],
   "source": [
    "lin_model = LinearRegression()\n",
    "\n",
    "print(\"RKFold performance: \\n{}\\n\".format(RepeatedKFoldPerf(lin_model, X, Y)))\n",
    "\n",
    "lin_model.fit(X_train, Y_train)\n",
    "print(\"Score after fit: {}\".format(lin_model.score(X_test, Y_test)))"
   ]
  },
  {
   "cell_type": "markdown",
   "id": "4fba8e32-4691-4d9e-866b-78f3dbaf50c4",
   "metadata": {},
   "source": [
    "### Polynomial Regression "
   ]
  },
  {
   "cell_type": "code",
   "execution_count": 39,
   "id": "b8ee4095-d691-4070-bf85-7205a31e8441",
   "metadata": {},
   "outputs": [
    {
     "name": "stdout",
     "output_type": "stream",
     "text": [
      "RKFold performance: \n",
      "Mean MAE: 0.346 (0.042)\n",
      "\n",
      "Score after fit: 0.921854284088875\n"
     ]
    }
   ],
   "source": [
    "poly_reg = PolynomialFeatures(degree=4)\n",
    "X_poly = poly_reg.fit_transform(X)\n",
    "poly_model = LinearRegression()\n",
    "\n",
    "print(\"RKFold performance: \\n{}\\n\".format(RepeatedKFoldPerf(poly_model, X_poly, Y)))\n",
    "\n",
    "poly_model.fit(X_train, Y_train)\n",
    "print(\"Score after fit: {}\".format(poly_model.score(X_test, Y_test)))"
   ]
  },
  {
   "cell_type": "markdown",
   "id": "f275b40b-3185-4347-b9cf-252d5a781e3f",
   "metadata": {},
   "source": [
    "### Lasso Regression "
   ]
  },
  {
   "cell_type": "code",
   "execution_count": 44,
   "id": "fc895ab6-a63b-49fb-b610-a671de7ab20a",
   "metadata": {},
   "outputs": [
    {
     "name": "stdout",
     "output_type": "stream",
     "text": [
      "RKFold performance: \n",
      "Mean MAE: 2.213 (0.240)\n",
      "\n",
      "Score after fit: 0.9175303161178504\n"
     ]
    }
   ],
   "source": [
    "lasso_model = Lasso(alpha=0.01)\n",
    "\n",
    "print(\"RKFold performance: \\n{}\\n\".format(RepeatedKFoldPerf(lasso_model, X, Y)))\n",
    "\n",
    "lasso_model.fit(X_train, Y_train)\n",
    "print(\"Score after fit: {}\".format(lasso_model.score(X_test, Y_test)))"
   ]
  },
  {
   "cell_type": "markdown",
   "id": "48bc5e4a-8287-44ad-a8fb-efd171b0f34d",
   "metadata": {},
   "source": [
    "### Decision Tree Regression "
   ]
  },
  {
   "cell_type": "code",
   "execution_count": 47,
   "id": "56a4dead-51cd-477f-9e4a-73d4465dd740",
   "metadata": {},
   "outputs": [
    {
     "name": "stdout",
     "output_type": "stream",
     "text": [
      "RKFold performance: \n",
      "Mean MAE: 0.359 (0.052)\n",
      "\n",
      "Score after fit: 0.9963962171218154\n"
     ]
    }
   ],
   "source": [
    "tree_model = DecisionTreeRegressor()\n",
    "\n",
    "print(\"RKFold performance: \\n{}\\n\".format(RepeatedKFoldPerf(tree_model, X, Y)))\n",
    "\n",
    "tree_model.fit(X_train, Y_train)\n",
    "print(\"Score after fit: {}\".format(tree_model.score(X_test, Y_test)))"
   ]
  },
  {
   "cell_type": "markdown",
   "id": "8c7b9f74-eacc-4146-bc08-da8d02bb6be6",
   "metadata": {},
   "source": [
    "### Random Forest Regression "
   ]
  },
  {
   "cell_type": "code",
   "execution_count": 55,
   "id": "95fccf3a-323c-4b22-8b92-7a3acccccd57",
   "metadata": {},
   "outputs": [
    {
     "name": "stdout",
     "output_type": "stream",
     "text": [
      "RKFold performance: \n",
      "Mean MAE: 0.312 (0.039)\n",
      "\n",
      "Score after fit: 0.9976633026346274\n"
     ]
    }
   ],
   "source": [
    "rf_model = RandomForestRegressor(n_estimators = 1000, random_state = 42)\n",
    "\n",
    "print(\"RKFold performance: \\n{}\\n\".format(RepeatedKFoldPerf(rf_model, X, Y.values.ravel())))\n",
    "\n",
    "rf_model.fit(X_train, Y_train.values.ravel())\n",
    "print(\"Score after fit: {}\".format(rf_model.score(X_test, Y_test)))"
   ]
  },
  {
   "cell_type": "markdown",
   "id": "b148f6cf-eaae-474d-a132-8e2413fe4fb9",
   "metadata": {},
   "source": [
    "### Support Vector Regression"
   ]
  },
  {
   "cell_type": "code",
   "execution_count": 62,
   "id": "1f7af251-adff-41d4-8e47-321dacb6abb3",
   "metadata": {},
   "outputs": [
    {
     "name": "stdout",
     "output_type": "stream",
     "text": [
      "RKFold performance: \n",
      "Mean MAE: 3.885 (0.468)\n",
      "\n",
      "Score after fit: 0.7286712123385257\n"
     ]
    }
   ],
   "source": [
    "svr_model = SVR(kernel = 'rbf')\n",
    "\n",
    "print(\"RKFold performance: \\n{}\\n\".format(RepeatedKFoldPerf(svr_model, X, Y.values.ravel())))\n",
    "\n",
    "svr_model.fit(X_train, Y_train.values.ravel())\n",
    "print(\"Score after fit: {}\".format(svr_model.score(X_test, Y_test)))"
   ]
  },
  {
   "cell_type": "markdown",
   "id": "c6ee9731-b705-4a98-bbd3-4712516ed370",
   "metadata": {},
   "source": [
    "### Bayesian Ridge Regression"
   ]
  },
  {
   "cell_type": "code",
   "execution_count": 65,
   "id": "9c15284c-9ff5-46e3-9c1b-91475af0f4f6",
   "metadata": {},
   "outputs": [
    {
     "name": "stdout",
     "output_type": "stream",
     "text": [
      "RKFold performance: \n",
      "Mean MAE: 2.095 (0.257)\n",
      "\n",
      "Score after fit: 0.9209171817646942\n"
     ]
    }
   ],
   "source": [
    "bayes_ridge_model = BayesianRidge()\n",
    "\n",
    "print(\"RKFold performance: \\n{}\\n\".format(RepeatedKFoldPerf(bayes_ridge_model, X, Y.values.ravel())))\n",
    "\n",
    "bayes_ridge_model.fit(X_train, Y_train.values.ravel())\n",
    "print(\"Score after fit: {}\".format(bayes_ridge_model.score(X_test, Y_test)))"
   ]
  },
  {
   "cell_type": "markdown",
   "id": "877e1537-8e98-4d18-8278-50f8df88e106",
   "metadata": {},
   "source": [
    "### Ridge Regression "
   ]
  },
  {
   "cell_type": "code",
   "execution_count": 67,
   "id": "364e3df8-4bba-45b0-bb4e-703c97a100a9",
   "metadata": {},
   "outputs": [
    {
     "name": "stdout",
     "output_type": "stream",
     "text": [
      "RKFold performance: \n",
      "Mean MAE: 2.201 (0.242)\n",
      "\n",
      "Score after fit: 0.9181267401815916\n"
     ]
    }
   ],
   "source": [
    "ridge_model = Ridge(alpha=1.0)\n",
    "\n",
    "print(\"RKFold performance: \\n{}\\n\".format(RepeatedKFoldPerf(ridge_model, X, Y.values.ravel())))\n",
    "\n",
    "ridge_model.fit(X_train, Y_train.values.ravel())\n",
    "print(\"Score after fit: {}\".format(ridge_model.score(X_test, Y_test)))"
   ]
  },
  {
   "cell_type": "markdown",
   "id": "1ae4e7a1-a56f-42a5-8db1-5105aabd0178",
   "metadata": {},
   "source": [
    "### ElasticNet Regression "
   ]
  },
  {
   "cell_type": "code",
   "execution_count": 77,
   "id": "46ebf188-1eb9-46f9-9174-b32576d63620",
   "metadata": {},
   "outputs": [
    {
     "name": "stdout",
     "output_type": "stream",
     "text": [
      "RKFold performance: \n",
      "Mean MAE: 2.213 (0.240)\n",
      "\n",
      "Score after fit: 0.9175303161178504\n"
     ]
    }
   ],
   "source": [
    "elastic_model = ElasticNet(alpha=0.01, l1_ratio=1.0)\n",
    "\n",
    "print(\"RKFold performance: \\n{}\\n\".format(RepeatedKFoldPerf(elastic_model, X, Y.values.ravel())))\n",
    "\n",
    "elastic_model.fit(X_train, Y_train.values.ravel())\n",
    "print(\"Score after fit: {}\".format(elastic_model.score(X_test, Y_test)))"
   ]
  }
 ],
 "metadata": {
  "kernelspec": {
   "display_name": "Python 3 (ipykernel)",
   "language": "python",
   "name": "python3"
  },
  "language_info": {
   "codemirror_mode": {
    "name": "ipython",
    "version": 3
   },
   "file_extension": ".py",
   "mimetype": "text/x-python",
   "name": "python",
   "nbconvert_exporter": "python",
   "pygments_lexer": "ipython3",
   "version": "3.9.7"
  }
 },
 "nbformat": 4,
 "nbformat_minor": 5
}
